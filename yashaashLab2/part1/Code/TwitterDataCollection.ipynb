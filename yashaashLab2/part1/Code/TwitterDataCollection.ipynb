{
 "cells": [
  {
   "cell_type": "markdown",
   "metadata": {},
   "source": [
    "https://stackoverflow.com/questions/22520932/python-remove-all-non-alphabet-chars-from-string/22521235\n",
    "https://stackoverflow.com/questions/35938188/twitter-api-how-to-exclude-retweets-when-searching-tweets-using-twython\n"
   ]
  },
  {
   "cell_type": "code",
   "execution_count": 1,
   "metadata": {},
   "outputs": [],
   "source": [
    "#import statements\n",
    "from twython import Twython\n",
    "import re\n",
    "import json"
   ]
  },
  {
   "cell_type": "code",
   "execution_count": 2,
   "metadata": {},
   "outputs": [],
   "source": [
    "#twitter credentials\n",
    "creds = {}  \n",
    "creds['CONSUMER_KEY'] = '' \n",
    "creds['CONSUMER_SECRET'] = ''  \n",
    "creds['ACCESS_TOKEN'] = ''\n",
    "creds['ACCESS_SECRET'] = ''"
   ]
  },
  {
   "cell_type": "code",
   "execution_count": 3,
   "metadata": {},
   "outputs": [],
   "source": [
    "#twython authorization variable\n",
    "python_tweets = Twython(creds['CONSUMER_KEY'], creds['CONSUMER_SECRET'])"
   ]
  },
  {
   "cell_type": "code",
   "execution_count": 4,
   "metadata": {},
   "outputs": [],
   "source": [
    "#querying\n",
    "query = 'avengers -filter:retweets AND -filter:replies' \n",
    "response = python_tweets.search(q=query, count=500)\n",
    "statuses = response['statuses']"
   ]
  },
  {
   "cell_type": "code",
   "execution_count": 5,
   "metadata": {},
   "outputs": [],
   "source": [
    "#list to store tweets\n",
    "tweets=list()\n",
    "\n",
    "for status in statuses:\n",
    "    if not tweets:\n",
    "        tweets.append(status['text'])\n",
    "    elif status['text'] not in tweets:\n",
    "        tweets.append(status['text'])"
   ]
  },
  {
   "cell_type": "code",
   "execution_count": 6,
   "metadata": {},
   "outputs": [],
   "source": [
    "#final list without \n",
    "final_tweets=list()"
   ]
  },
  {
   "cell_type": "code",
   "execution_count": 7,
   "metadata": {},
   "outputs": [],
   "source": [
    "#remove all non aplhanumeric characters\n",
    "regex = re.compile('[^a-zA-Z ]')\n",
    "for tweet in tweets:\n",
    "    final_tweets.append(regex.sub('', tweet))"
   ]
  },
  {
   "cell_type": "code",
   "execution_count": 8,
   "metadata": {},
   "outputs": [],
   "source": [
    "f1=open('tweets2.txt','a')\n",
    "for tweet in final_tweets:\n",
    "    f1.write(tweet)\n",
    "f1.close()"
   ]
  }
 ],
 "metadata": {
  "kernelspec": {
   "display_name": "Python 3",
   "language": "python",
   "name": "python3"
  },
  "language_info": {
   "codemirror_mode": {
    "name": "ipython",
    "version": 3
   },
   "file_extension": ".py",
   "mimetype": "text/x-python",
   "name": "python",
   "nbconvert_exporter": "python",
   "pygments_lexer": "ipython3",
   "version": "3.7.3"
  }
 },
 "nbformat": 4,
 "nbformat_minor": 2
}
